{
 "cells": [
  {
   "cell_type": "code",
   "execution_count": 80,
   "id": "6b829e16-4a77-4523-8c1f-335eac3ef98a",
   "metadata": {},
   "outputs": [],
   "source": [
    "#loading dataset\n",
    "import pandas as pd\n",
    "data=pd.read_csv(\"Weather Data.csv\")"
   ]
  },
  {
   "cell_type": "code",
   "execution_count": 82,
   "id": "cf2f1c6e-fa46-42dc-9915-fed7d675964f",
   "metadata": {},
   "outputs": [
    {
     "data": {
      "text/html": [
       "<div>\n",
       "<style scoped>\n",
       "    .dataframe tbody tr th:only-of-type {\n",
       "        vertical-align: middle;\n",
       "    }\n",
       "\n",
       "    .dataframe tbody tr th {\n",
       "        vertical-align: top;\n",
       "    }\n",
       "\n",
       "    .dataframe thead th {\n",
       "        text-align: right;\n",
       "    }\n",
       "</style>\n",
       "<table border=\"1\" class=\"dataframe\">\n",
       "  <thead>\n",
       "    <tr style=\"text-align: right;\">\n",
       "      <th></th>\n",
       "      <th>Date/Time</th>\n",
       "      <th>Temp_C</th>\n",
       "      <th>Dew Point Temp_C</th>\n",
       "      <th>Rel Hum_%</th>\n",
       "      <th>Wind Speed_km/h</th>\n",
       "      <th>Visibility_km</th>\n",
       "      <th>Press_kPa</th>\n",
       "      <th>Weather</th>\n",
       "    </tr>\n",
       "  </thead>\n",
       "  <tbody>\n",
       "    <tr>\n",
       "      <th>0</th>\n",
       "      <td>1/1/2012 0:00</td>\n",
       "      <td>-1.8</td>\n",
       "      <td>-3.9</td>\n",
       "      <td>86</td>\n",
       "      <td>4</td>\n",
       "      <td>8.0</td>\n",
       "      <td>101.24</td>\n",
       "      <td>Fog</td>\n",
       "    </tr>\n",
       "    <tr>\n",
       "      <th>1</th>\n",
       "      <td>1/1/2012 1:00</td>\n",
       "      <td>-1.8</td>\n",
       "      <td>-3.7</td>\n",
       "      <td>87</td>\n",
       "      <td>4</td>\n",
       "      <td>8.0</td>\n",
       "      <td>101.24</td>\n",
       "      <td>Fog</td>\n",
       "    </tr>\n",
       "    <tr>\n",
       "      <th>2</th>\n",
       "      <td>1/1/2012 2:00</td>\n",
       "      <td>-1.8</td>\n",
       "      <td>-3.4</td>\n",
       "      <td>89</td>\n",
       "      <td>7</td>\n",
       "      <td>4.0</td>\n",
       "      <td>101.26</td>\n",
       "      <td>Freezing Drizzle,Fog</td>\n",
       "    </tr>\n",
       "    <tr>\n",
       "      <th>3</th>\n",
       "      <td>1/1/2012 3:00</td>\n",
       "      <td>-1.5</td>\n",
       "      <td>-3.2</td>\n",
       "      <td>88</td>\n",
       "      <td>6</td>\n",
       "      <td>4.0</td>\n",
       "      <td>101.27</td>\n",
       "      <td>Freezing Drizzle,Fog</td>\n",
       "    </tr>\n",
       "    <tr>\n",
       "      <th>4</th>\n",
       "      <td>1/1/2012 4:00</td>\n",
       "      <td>-1.5</td>\n",
       "      <td>-3.3</td>\n",
       "      <td>88</td>\n",
       "      <td>7</td>\n",
       "      <td>4.8</td>\n",
       "      <td>101.23</td>\n",
       "      <td>Fog</td>\n",
       "    </tr>\n",
       "  </tbody>\n",
       "</table>\n",
       "</div>"
      ],
      "text/plain": [
       "       Date/Time  Temp_C  Dew Point Temp_C  Rel Hum_%  Wind Speed_km/h  \\\n",
       "0  1/1/2012 0:00    -1.8              -3.9         86                4   \n",
       "1  1/1/2012 1:00    -1.8              -3.7         87                4   \n",
       "2  1/1/2012 2:00    -1.8              -3.4         89                7   \n",
       "3  1/1/2012 3:00    -1.5              -3.2         88                6   \n",
       "4  1/1/2012 4:00    -1.5              -3.3         88                7   \n",
       "\n",
       "   Visibility_km  Press_kPa               Weather  \n",
       "0            8.0     101.24                   Fog  \n",
       "1            8.0     101.24                   Fog  \n",
       "2            4.0     101.26  Freezing Drizzle,Fog  \n",
       "3            4.0     101.27  Freezing Drizzle,Fog  \n",
       "4            4.8     101.23                   Fog  "
      ]
     },
     "execution_count": 82,
     "metadata": {},
     "output_type": "execute_result"
    }
   ],
   "source": [
    "data.head() # displaying top 5 records"
   ]
  },
  {
   "cell_type": "code",
   "execution_count": 84,
   "id": "3bc7e72c-99d7-4e42-a7ed-45d3f6ffdce6",
   "metadata": {},
   "outputs": [
    {
     "name": "stdout",
     "output_type": "stream",
     "text": [
      "<class 'pandas.core.frame.DataFrame'>\n",
      "RangeIndex: 8784 entries, 0 to 8783\n",
      "Data columns (total 8 columns):\n",
      " #   Column            Non-Null Count  Dtype  \n",
      "---  ------            --------------  -----  \n",
      " 0   Date/Time         8784 non-null   object \n",
      " 1   Temp_C            8784 non-null   float64\n",
      " 2   Dew Point Temp_C  8784 non-null   float64\n",
      " 3   Rel Hum_%         8784 non-null   int64  \n",
      " 4   Wind Speed_km/h   8784 non-null   int64  \n",
      " 5   Visibility_km     8784 non-null   float64\n",
      " 6   Press_kPa         8784 non-null   float64\n",
      " 7   Weather           8784 non-null   object \n",
      "dtypes: float64(4), int64(2), object(2)\n",
      "memory usage: 549.1+ KB\n"
     ]
    }
   ],
   "source": [
    "data.info()"
   ]
  },
  {
   "cell_type": "code",
   "execution_count": 86,
   "id": "22ce943e-bb68-461c-bc2b-a439418caa18",
   "metadata": {},
   "outputs": [
    {
     "data": {
      "text/html": [
       "<div>\n",
       "<style scoped>\n",
       "    .dataframe tbody tr th:only-of-type {\n",
       "        vertical-align: middle;\n",
       "    }\n",
       "\n",
       "    .dataframe tbody tr th {\n",
       "        vertical-align: top;\n",
       "    }\n",
       "\n",
       "    .dataframe thead th {\n",
       "        text-align: right;\n",
       "    }\n",
       "</style>\n",
       "<table border=\"1\" class=\"dataframe\">\n",
       "  <thead>\n",
       "    <tr style=\"text-align: right;\">\n",
       "      <th></th>\n",
       "      <th>Temp_C</th>\n",
       "      <th>Dew Point Temp_C</th>\n",
       "      <th>Rel Hum_%</th>\n",
       "      <th>Wind Speed_km/h</th>\n",
       "      <th>Visibility_km</th>\n",
       "      <th>Press_kPa</th>\n",
       "    </tr>\n",
       "  </thead>\n",
       "  <tbody>\n",
       "    <tr>\n",
       "      <th>count</th>\n",
       "      <td>8784.000000</td>\n",
       "      <td>8784.000000</td>\n",
       "      <td>8784.000000</td>\n",
       "      <td>8784.000000</td>\n",
       "      <td>8784.000000</td>\n",
       "      <td>8784.000000</td>\n",
       "    </tr>\n",
       "    <tr>\n",
       "      <th>mean</th>\n",
       "      <td>8.798144</td>\n",
       "      <td>2.555294</td>\n",
       "      <td>67.431694</td>\n",
       "      <td>14.945469</td>\n",
       "      <td>27.664447</td>\n",
       "      <td>101.051623</td>\n",
       "    </tr>\n",
       "    <tr>\n",
       "      <th>std</th>\n",
       "      <td>11.687883</td>\n",
       "      <td>10.883072</td>\n",
       "      <td>16.918881</td>\n",
       "      <td>8.688696</td>\n",
       "      <td>12.622688</td>\n",
       "      <td>0.844005</td>\n",
       "    </tr>\n",
       "    <tr>\n",
       "      <th>min</th>\n",
       "      <td>-23.300000</td>\n",
       "      <td>-28.500000</td>\n",
       "      <td>18.000000</td>\n",
       "      <td>0.000000</td>\n",
       "      <td>0.200000</td>\n",
       "      <td>97.520000</td>\n",
       "    </tr>\n",
       "    <tr>\n",
       "      <th>25%</th>\n",
       "      <td>0.100000</td>\n",
       "      <td>-5.900000</td>\n",
       "      <td>56.000000</td>\n",
       "      <td>9.000000</td>\n",
       "      <td>24.100000</td>\n",
       "      <td>100.560000</td>\n",
       "    </tr>\n",
       "    <tr>\n",
       "      <th>50%</th>\n",
       "      <td>9.300000</td>\n",
       "      <td>3.300000</td>\n",
       "      <td>68.000000</td>\n",
       "      <td>13.000000</td>\n",
       "      <td>25.000000</td>\n",
       "      <td>101.070000</td>\n",
       "    </tr>\n",
       "    <tr>\n",
       "      <th>75%</th>\n",
       "      <td>18.800000</td>\n",
       "      <td>11.800000</td>\n",
       "      <td>81.000000</td>\n",
       "      <td>20.000000</td>\n",
       "      <td>25.000000</td>\n",
       "      <td>101.590000</td>\n",
       "    </tr>\n",
       "    <tr>\n",
       "      <th>max</th>\n",
       "      <td>33.000000</td>\n",
       "      <td>24.400000</td>\n",
       "      <td>100.000000</td>\n",
       "      <td>83.000000</td>\n",
       "      <td>48.300000</td>\n",
       "      <td>103.650000</td>\n",
       "    </tr>\n",
       "  </tbody>\n",
       "</table>\n",
       "</div>"
      ],
      "text/plain": [
       "            Temp_C  Dew Point Temp_C    Rel Hum_%  Wind Speed_km/h  \\\n",
       "count  8784.000000       8784.000000  8784.000000      8784.000000   \n",
       "mean      8.798144          2.555294    67.431694        14.945469   \n",
       "std      11.687883         10.883072    16.918881         8.688696   \n",
       "min     -23.300000        -28.500000    18.000000         0.000000   \n",
       "25%       0.100000         -5.900000    56.000000         9.000000   \n",
       "50%       9.300000          3.300000    68.000000        13.000000   \n",
       "75%      18.800000         11.800000    81.000000        20.000000   \n",
       "max      33.000000         24.400000   100.000000        83.000000   \n",
       "\n",
       "       Visibility_km    Press_kPa  \n",
       "count    8784.000000  8784.000000  \n",
       "mean       27.664447   101.051623  \n",
       "std        12.622688     0.844005  \n",
       "min         0.200000    97.520000  \n",
       "25%        24.100000   100.560000  \n",
       "50%        25.000000   101.070000  \n",
       "75%        25.000000   101.590000  \n",
       "max        48.300000   103.650000  "
      ]
     },
     "execution_count": 86,
     "metadata": {},
     "output_type": "execute_result"
    }
   ],
   "source": [
    "data.describe()"
   ]
  },
  {
   "cell_type": "code",
   "execution_count": 88,
   "id": "a23c1f0b-4cef-4b1a-bbbd-dd92e40e0dfb",
   "metadata": {},
   "outputs": [
    {
     "data": {
      "text/plain": [
       "Weather\n",
       "Mainly Clear                               2106\n",
       "Mostly Cloudy                              2069\n",
       "Cloudy                                     1728\n",
       "Clear                                      1326\n",
       "Snow                                        390\n",
       "Rain                                        306\n",
       "Rain Showers                                188\n",
       "Fog                                         150\n",
       "Rain,Fog                                    116\n",
       "Drizzle,Fog                                  80\n",
       "Snow Showers                                 60\n",
       "Drizzle                                      41\n",
       "Snow,Fog                                     37\n",
       "Snow,Blowing Snow                            19\n",
       "Rain,Snow                                    18\n",
       "Thunderstorms,Rain Showers                   16\n",
       "Haze                                         16\n",
       "Drizzle,Snow,Fog                             15\n",
       "Freezing Rain                                14\n",
       "Freezing Drizzle,Snow                        11\n",
       "Freezing Drizzle                              7\n",
       "Snow,Ice Pellets                              6\n",
       "Freezing Drizzle,Fog                          6\n",
       "Snow,Haze                                     5\n",
       "Freezing Fog                                  4\n",
       "Snow Showers,Fog                              4\n",
       "Moderate Snow                                 4\n",
       "Rain,Snow,Ice Pellets                         4\n",
       "Freezing Rain,Fog                             4\n",
       "Freezing Drizzle,Haze                         3\n",
       "Rain,Haze                                     3\n",
       "Thunderstorms,Rain                            3\n",
       "Thunderstorms,Rain Showers,Fog                3\n",
       "Freezing Rain,Haze                            2\n",
       "Drizzle,Snow                                  2\n",
       "Rain Showers,Snow Showers                     2\n",
       "Thunderstorms                                 2\n",
       "Moderate Snow,Blowing Snow                    2\n",
       "Rain Showers,Fog                              1\n",
       "Thunderstorms,Moderate Rain Showers,Fog       1\n",
       "Snow Pellets                                  1\n",
       "Rain,Snow,Fog                                 1\n",
       "Moderate Rain,Fog                             1\n",
       "Freezing Rain,Ice Pellets,Fog                 1\n",
       "Drizzle,Ice Pellets,Fog                       1\n",
       "Thunderstorms,Rain,Fog                        1\n",
       "Rain,Ice Pellets                              1\n",
       "Rain,Snow Grains                              1\n",
       "Thunderstorms,Heavy Rain Showers              1\n",
       "Freezing Rain,Snow Grains                     1\n",
       "Name: count, dtype: int64"
      ]
     },
     "execution_count": 88,
     "metadata": {},
     "output_type": "execute_result"
    }
   ],
   "source": [
    "data.Weather.value_counts()"
   ]
  },
  {
   "cell_type": "code",
   "execution_count": 90,
   "id": "afc943cd-bb41-4b91-ae2e-a456f141c185",
   "metadata": {},
   "outputs": [],
   "source": [
    "# we have so many catorgories in weather columns so first merge them\n",
    "# Clear Cloudy Snow Rain\n",
    "data.Weather=data.Weather.apply(lambda x:'Clear'.lower() if 'Clear' in x  else x )\n",
    "data.Weather=data.Weather.apply(lambda x:'Cloudy'.lower() if 'Cloudy' in x  else x )\n",
    "data.Weather=data.Weather.apply(lambda x:'Snow'.lower() if 'Snow' in x  else x )\n",
    "data.Weather=data.Weather.apply(lambda x:'Rain'.lower() if 'Rain' in x  else x )\n",
    "data.Weather=data.Weather.apply(lambda x:'Fog'.lower() if 'Fog' in x  else x )\n",
    "data.Weather=data.Weather.apply(lambda x:'Other'.lower() if x in ['Drizzle','Haze','Freezing Drizzle','Freezing Drizzle,Haze','Thunderstorms']   else x )"
   ]
  },
  {
   "cell_type": "code",
   "execution_count": 92,
   "id": "7a12f81e-fc79-4274-96ed-fcb3bbe8194b",
   "metadata": {},
   "outputs": [
    {
     "data": {
      "text/plain": [
       "Weather\n",
       "cloudy    3797\n",
       "clear     3432\n",
       "rain       662\n",
       "snow       583\n",
       "fog        241\n",
       "other       69\n",
       "Name: count, dtype: int64"
      ]
     },
     "execution_count": 92,
     "metadata": {},
     "output_type": "execute_result"
    }
   ],
   "source": [
    "data.Weather.value_counts()"
   ]
  },
  {
   "cell_type": "code",
   "execution_count": 94,
   "id": "0abdb07e-71da-46b3-af51-2a5e38382000",
   "metadata": {},
   "outputs": [
    {
     "data": {
      "text/html": [
       "<div>\n",
       "<style scoped>\n",
       "    .dataframe tbody tr th:only-of-type {\n",
       "        vertical-align: middle;\n",
       "    }\n",
       "\n",
       "    .dataframe tbody tr th {\n",
       "        vertical-align: top;\n",
       "    }\n",
       "\n",
       "    .dataframe thead th {\n",
       "        text-align: right;\n",
       "    }\n",
       "</style>\n",
       "<table border=\"1\" class=\"dataframe\">\n",
       "  <thead>\n",
       "    <tr style=\"text-align: right;\">\n",
       "      <th></th>\n",
       "      <th>Date/Time</th>\n",
       "      <th>Temp_C</th>\n",
       "      <th>Dew Point Temp_C</th>\n",
       "      <th>Rel Hum_%</th>\n",
       "      <th>Wind Speed_km/h</th>\n",
       "      <th>Visibility_km</th>\n",
       "      <th>Press_kPa</th>\n",
       "      <th>Weather</th>\n",
       "    </tr>\n",
       "  </thead>\n",
       "  <tbody>\n",
       "    <tr>\n",
       "      <th>0</th>\n",
       "      <td>1/1/2012 0:00</td>\n",
       "      <td>-1.8</td>\n",
       "      <td>-3.9</td>\n",
       "      <td>86</td>\n",
       "      <td>4</td>\n",
       "      <td>8.0</td>\n",
       "      <td>101.24</td>\n",
       "      <td>fog</td>\n",
       "    </tr>\n",
       "    <tr>\n",
       "      <th>1</th>\n",
       "      <td>1/1/2012 1:00</td>\n",
       "      <td>-1.8</td>\n",
       "      <td>-3.7</td>\n",
       "      <td>87</td>\n",
       "      <td>4</td>\n",
       "      <td>8.0</td>\n",
       "      <td>101.24</td>\n",
       "      <td>fog</td>\n",
       "    </tr>\n",
       "    <tr>\n",
       "      <th>2</th>\n",
       "      <td>1/1/2012 2:00</td>\n",
       "      <td>-1.8</td>\n",
       "      <td>-3.4</td>\n",
       "      <td>89</td>\n",
       "      <td>7</td>\n",
       "      <td>4.0</td>\n",
       "      <td>101.26</td>\n",
       "      <td>fog</td>\n",
       "    </tr>\n",
       "    <tr>\n",
       "      <th>3</th>\n",
       "      <td>1/1/2012 3:00</td>\n",
       "      <td>-1.5</td>\n",
       "      <td>-3.2</td>\n",
       "      <td>88</td>\n",
       "      <td>6</td>\n",
       "      <td>4.0</td>\n",
       "      <td>101.27</td>\n",
       "      <td>fog</td>\n",
       "    </tr>\n",
       "    <tr>\n",
       "      <th>4</th>\n",
       "      <td>1/1/2012 4:00</td>\n",
       "      <td>-1.5</td>\n",
       "      <td>-3.3</td>\n",
       "      <td>88</td>\n",
       "      <td>7</td>\n",
       "      <td>4.8</td>\n",
       "      <td>101.23</td>\n",
       "      <td>fog</td>\n",
       "    </tr>\n",
       "  </tbody>\n",
       "</table>\n",
       "</div>"
      ],
      "text/plain": [
       "       Date/Time  Temp_C  Dew Point Temp_C  Rel Hum_%  Wind Speed_km/h  \\\n",
       "0  1/1/2012 0:00    -1.8              -3.9         86                4   \n",
       "1  1/1/2012 1:00    -1.8              -3.7         87                4   \n",
       "2  1/1/2012 2:00    -1.8              -3.4         89                7   \n",
       "3  1/1/2012 3:00    -1.5              -3.2         88                6   \n",
       "4  1/1/2012 4:00    -1.5              -3.3         88                7   \n",
       "\n",
       "   Visibility_km  Press_kPa Weather  \n",
       "0            8.0     101.24     fog  \n",
       "1            8.0     101.24     fog  \n",
       "2            4.0     101.26     fog  \n",
       "3            4.0     101.27     fog  \n",
       "4            4.8     101.23     fog  "
      ]
     },
     "execution_count": 94,
     "metadata": {},
     "output_type": "execute_result"
    }
   ],
   "source": [
    "data.head()"
   ]
  },
  {
   "cell_type": "code",
   "execution_count": 96,
   "id": "d5403c51-cccb-443f-9f77-09c87ce1828a",
   "metadata": {},
   "outputs": [
    {
     "data": {
      "text/html": [
       "<div>\n",
       "<style scoped>\n",
       "    .dataframe tbody tr th:only-of-type {\n",
       "        vertical-align: middle;\n",
       "    }\n",
       "\n",
       "    .dataframe tbody tr th {\n",
       "        vertical-align: top;\n",
       "    }\n",
       "\n",
       "    .dataframe thead th {\n",
       "        text-align: right;\n",
       "    }\n",
       "</style>\n",
       "<table border=\"1\" class=\"dataframe\">\n",
       "  <thead>\n",
       "    <tr style=\"text-align: right;\">\n",
       "      <th></th>\n",
       "      <th>Date/Time</th>\n",
       "      <th>Temp_C</th>\n",
       "      <th>Dew Point Temp_C</th>\n",
       "      <th>Rel Hum_%</th>\n",
       "      <th>Wind Speed_km/h</th>\n",
       "      <th>Visibility_km</th>\n",
       "      <th>Press_kPa</th>\n",
       "      <th>Weather</th>\n",
       "    </tr>\n",
       "  </thead>\n",
       "  <tbody>\n",
       "    <tr>\n",
       "      <th>2668</th>\n",
       "      <td>4/21/2012 4:00</td>\n",
       "      <td>5.7</td>\n",
       "      <td>3.4</td>\n",
       "      <td>85</td>\n",
       "      <td>13</td>\n",
       "      <td>25.0</td>\n",
       "      <td>100.20</td>\n",
       "      <td>cloudy</td>\n",
       "    </tr>\n",
       "    <tr>\n",
       "      <th>7507</th>\n",
       "      <td>11/8/2012 19:00</td>\n",
       "      <td>1.8</td>\n",
       "      <td>-3.3</td>\n",
       "      <td>69</td>\n",
       "      <td>9</td>\n",
       "      <td>25.0</td>\n",
       "      <td>101.27</td>\n",
       "      <td>cloudy</td>\n",
       "    </tr>\n",
       "    <tr>\n",
       "      <th>1826</th>\n",
       "      <td>3/17/2012 2:00</td>\n",
       "      <td>2.7</td>\n",
       "      <td>2.5</td>\n",
       "      <td>99</td>\n",
       "      <td>4</td>\n",
       "      <td>0.2</td>\n",
       "      <td>102.09</td>\n",
       "      <td>fog</td>\n",
       "    </tr>\n",
       "    <tr>\n",
       "      <th>3878</th>\n",
       "      <td>6/10/2012 14:00</td>\n",
       "      <td>26.5</td>\n",
       "      <td>5.9</td>\n",
       "      <td>27</td>\n",
       "      <td>6</td>\n",
       "      <td>48.3</td>\n",
       "      <td>101.40</td>\n",
       "      <td>cloudy</td>\n",
       "    </tr>\n",
       "    <tr>\n",
       "      <th>1729</th>\n",
       "      <td>3/13/2012 1:00</td>\n",
       "      <td>5.1</td>\n",
       "      <td>-0.9</td>\n",
       "      <td>65</td>\n",
       "      <td>13</td>\n",
       "      <td>25.0</td>\n",
       "      <td>101.07</td>\n",
       "      <td>rain</td>\n",
       "    </tr>\n",
       "    <tr>\n",
       "      <th>7750</th>\n",
       "      <td>11/18/2012 22:00</td>\n",
       "      <td>-1.3</td>\n",
       "      <td>-6.9</td>\n",
       "      <td>66</td>\n",
       "      <td>11</td>\n",
       "      <td>25.0</td>\n",
       "      <td>103.25</td>\n",
       "      <td>cloudy</td>\n",
       "    </tr>\n",
       "  </tbody>\n",
       "</table>\n",
       "</div>"
      ],
      "text/plain": [
       "             Date/Time  Temp_C  Dew Point Temp_C  Rel Hum_%  Wind Speed_km/h  \\\n",
       "2668    4/21/2012 4:00     5.7               3.4         85               13   \n",
       "7507   11/8/2012 19:00     1.8              -3.3         69                9   \n",
       "1826    3/17/2012 2:00     2.7               2.5         99                4   \n",
       "3878   6/10/2012 14:00    26.5               5.9         27                6   \n",
       "1729    3/13/2012 1:00     5.1              -0.9         65               13   \n",
       "7750  11/18/2012 22:00    -1.3              -6.9         66               11   \n",
       "\n",
       "      Visibility_km  Press_kPa Weather  \n",
       "2668           25.0     100.20  cloudy  \n",
       "7507           25.0     101.27  cloudy  \n",
       "1826            0.2     102.09     fog  \n",
       "3878           48.3     101.40  cloudy  \n",
       "1729           25.0     101.07    rain  \n",
       "7750           25.0     103.25  cloudy  "
      ]
     },
     "execution_count": 96,
     "metadata": {},
     "output_type": "execute_result"
    }
   ],
   "source": [
    "data.sample(6)"
   ]
  },
  {
   "cell_type": "code",
   "execution_count": 98,
   "id": "dd6844d7-381f-4809-b0be-a46b00b1e332",
   "metadata": {},
   "outputs": [],
   "source": [
    "data=data.iloc[:,1:]"
   ]
  },
  {
   "cell_type": "code",
   "execution_count": 100,
   "id": "11f20cb6-b3cb-44a6-847c-c4eb239d3efa",
   "metadata": {},
   "outputs": [],
   "source": [
    "X=data.drop('Weather',axis=1)"
   ]
  },
  {
   "cell_type": "code",
   "execution_count": 102,
   "id": "e944844c-da6b-49a8-827b-5d40979f1934",
   "metadata": {},
   "outputs": [],
   "source": [
    "y=data.Weather"
   ]
  },
  {
   "cell_type": "code",
   "execution_count": 104,
   "id": "fefdc3a6-1dd4-4c05-9243-ba078335b625",
   "metadata": {},
   "outputs": [
    {
     "data": {
      "text/plain": [
       "(8784, 6)"
      ]
     },
     "execution_count": 104,
     "metadata": {},
     "output_type": "execute_result"
    }
   ],
   "source": [
    "X.shape"
   ]
  },
  {
   "cell_type": "code",
   "execution_count": 106,
   "id": "9ec1a309-2c67-4cec-88e0-9ffc1f8936ec",
   "metadata": {},
   "outputs": [
    {
     "data": {
      "text/plain": [
       "(8784,)"
      ]
     },
     "execution_count": 106,
     "metadata": {},
     "output_type": "execute_result"
    }
   ],
   "source": [
    "y.shape"
   ]
  },
  {
   "cell_type": "code",
   "execution_count": 108,
   "id": "288751a5-1bcd-4299-bd99-8c8b456ec653",
   "metadata": {},
   "outputs": [],
   "source": [
    "from sklearn.preprocessing import LabelEncoder"
   ]
  },
  {
   "cell_type": "code",
   "execution_count": 110,
   "id": "a54da92d-562a-4faf-a693-458f607b22a7",
   "metadata": {},
   "outputs": [],
   "source": [
    "le=LabelEncoder()\n",
    "y=le.fit_transform(y)"
   ]
  },
  {
   "cell_type": "code",
   "execution_count": null,
   "id": "3f52a4fb-173b-4f5d-851e-52b9f3f83c95",
   "metadata": {},
   "outputs": [],
   "source": []
  },
  {
   "cell_type": "code",
   "execution_count": 157,
   "id": "bb3b5ca4-f8fd-4aed-af57-17ef1ccaae21",
   "metadata": {},
   "outputs": [],
   "source": [
    "from sklearn.tree import DecisionTreeClassifier\n",
    "from sklearn.model_selection import train_test_split\n",
    "from sklearn.metrics import accuracy_score\n",
    "\n",
    "def find_best_depth_auto(X, y, max_depth=10, test_size=0.2):\n",
    "    results = []\n",
    "    best_depth = None\n",
    "    best_acc = 0\n",
    "    best_model = None\n",
    "\n",
    "    print(f\" Checking depths from 1 to {max_depth}\\n\")\n",
    "\n",
    "    for depth in range(1, max_depth + 1):\n",
    "        model = DecisionTreeClassifier(max_depth=depth, random_state=42)\n",
    "        model.fit(X_train, y_train)\n",
    "\n",
    "        y_train_pred = model.predict(X_train)\n",
    "        y_test_pred = model.predict(X_test)\n",
    "\n",
    "        train_acc = accuracy_score(y_train, y_train_pred)\n",
    "        test_acc = accuracy_score(y_test, y_test_pred)\n",
    "\n",
    "        results.append((depth, train_acc, test_acc))\n",
    "        print(f\"Depth {depth:2d} | Train Acc: {train_acc:.4f} | Test Acc: {test_acc:.4f}\")\n",
    "\n",
    "        if test_acc > best_acc:\n",
    "            best_acc = test_acc\n",
    "            best_depth = depth\n",
    "            best_model = model\n",
    "\n",
    "    print(f\" Best Depth = {best_depth} with Test Accuracy = {best_acc:.4f}\")\n",
    "    return best_depth, best_model, results\n"
   ]
  },
  {
   "cell_type": "code",
   "execution_count": 159,
   "id": "a2911371-8927-4179-b693-a082d9e021a0",
   "metadata": {},
   "outputs": [
    {
     "name": "stdout",
     "output_type": "stream",
     "text": [
      "🔍 Evaluating model performance for different depths...\n",
      "\n",
      "Depth  1 | Train: 0.4612 | Test: 0.4718\n",
      "Depth  2 | Train: 0.5428 | Test: 0.5253\n",
      "Depth  3 | Train: 0.5880 | Test: 0.5800\n",
      "Depth  4 | Train: 0.5995 | Test: 0.5896\n",
      "Depth  5 | Train: 0.6273 | Test: 0.6056\n",
      "Depth  6 | Train: 0.6466 | Test: 0.6261\n",
      "Depth  7 | Train: 0.6690 | Test: 0.6380\n",
      "Depth  8 | Train: 0.6891 | Test: 0.6414\n",
      "Depth  9 | Train: 0.7208 | Test: 0.6306\n",
      "Depth 10 | Train: 0.7554 | Test: 0.6414\n",
      "Depth 11 | Train: 0.7925 | Test: 0.6431\n",
      "Depth 12 | Train: 0.8235 | Test: 0.6392\n",
      "Depth 13 | Train: 0.8577 | Test: 0.6403\n",
      "Depth 14 | Train: 0.8879 | Test: 0.6431\n",
      "Depth 15 | Train: 0.9163 | Test: 0.6454\n",
      "Depth 16 | Train: 0.9370 | Test: 0.6380\n",
      "Depth 17 | Train: 0.9573 | Test: 0.6409\n",
      "Depth 18 | Train: 0.9728 | Test: 0.6323\n",
      "Depth 19 | Train: 0.9835 | Test: 0.6318\n",
      "Depth 20 | Train: 0.9900 | Test: 0.6386\n",
      "\n",
      "✅ Best Depth = 15 with Test Accuracy = 0.6454\n"
     ]
    },
    {
     "data": {
      "text/plain": [
       "(15,\n",
       " DecisionTreeClassifier(max_depth=15, random_state=42),\n",
       " [(1, 0.4612210046961719, 0.4718269778030734),\n",
       "  (2, 0.5427636260139462, 0.5253272623790552),\n",
       "  (3, 0.5880176462217163, 0.5799658508821856),\n",
       "  (4, 0.5995446136331294, 0.5896414342629482),\n",
       "  (5, 0.6272947203643091, 0.6055776892430279),\n",
       "  (6, 0.6466486409563114, 0.6260671599317018),\n",
       "  (7, 0.6689910345809023, 0.6380193511667616),\n",
       "  (8, 0.6890564963711399, 0.6414342629482072),\n",
       "  (9, 0.7207912338124377, 0.6306203756402959),\n",
       "  (10, 0.7553721360466771, 0.6414342629482072),\n",
       "  (11, 0.7925145865945639, 0.64314171883893),\n",
       "  (12, 0.8235377828376264, 0.6391576550939101),\n",
       "  (13, 0.8576917603529244, 0.6402959590210586),\n",
       "  (14, 0.8878611071581044, 0.64314171883893),\n",
       "  (15, 0.9163227550875196, 0.6454183266932271),\n",
       "  (16, 0.9369574498363455, 0.6380193511667616),\n",
       "  (17, 0.9573075281058774, 0.640865110984633),\n",
       "  (18, 0.9728191262274085, 0.6323278315310188),\n",
       "  (19, 0.9834922442009393, 0.6317586795674445),\n",
       "  (20, 0.9900384232247047, 0.6385885031303358)])"
      ]
     },
     "execution_count": 159,
     "metadata": {},
     "output_type": "execute_result"
    }
   ],
   "source": [
    "find_best_depth_auto_split(X,y)"
   ]
  },
  {
   "cell_type": "code",
   "execution_count": 161,
   "id": "7efd54a1-4548-4f2b-977a-5ecbdf12cfdc",
   "metadata": {},
   "outputs": [
    {
     "name": "stdout",
     "output_type": "stream",
     "text": [
      " Checking depths from 1 to 10\n",
      "\n",
      "Depth  1 | Train Acc: 0.4733 | Test Acc: 0.4686\n",
      "Depth  2 | Train Acc: 0.5468 | Test Acc: 0.5364\n",
      "Depth  3 | Train Acc: 0.5871 | Test Acc: 0.5820\n",
      "Depth  4 | Train Acc: 0.5926 | Test Acc: 0.5865\n",
      "Depth  5 | Train Acc: 0.6249 | Test Acc: 0.6202\n",
      "Depth  6 | Train Acc: 0.6450 | Test Acc: 0.6248\n",
      "Depth  7 | Train Acc: 0.6671 | Test Acc: 0.6334\n",
      "Depth  8 | Train Acc: 0.6966 | Test Acc: 0.6430\n",
      "Depth  9 | Train Acc: 0.7307 | Test Acc: 0.6311\n",
      "Depth 10 | Train Acc: 0.7641 | Test Acc: 0.6412\n",
      " Best Depth = 8 with Test Accuracy = 0.6430\n"
     ]
    }
   ],
   "source": [
    "best_depth, best_model, results = find_best_depth_auto(X, y)"
   ]
  },
  {
   "cell_type": "code",
   "execution_count": null,
   "id": "088a972a-7f64-4ce3-8225-6bfa10856c48",
   "metadata": {},
   "outputs": [],
   "source": []
  },
  {
   "cell_type": "code",
   "execution_count": 164,
   "id": "554225e7-dfd0-43c2-b13d-6586ed22a9cb",
   "metadata": {},
   "outputs": [
    {
     "data": {
      "image/png": "[encoded data removed]",
      "text/plain": [
       "<Figure size 640x480 with 1 Axes>"
      ]
     },
     "metadata": {},
     "output_type": "display_data"
    }
   ],
   "source": [
    "import matplotlib.pyplot as plt\n",
    "\n",
    "depths = [r[0] for r in results]\n",
    "train_acc = [r[1] for r in results]\n",
    "test_acc = [r[2] for r in results]\n",
    "\n",
    "plt.plot(depths, train_acc, marker='o', label='Train Accuracy')\n",
    "plt.plot(depths, test_acc, marker='o', label='Test Accuracy')\n",
    "plt.xlabel('Tree Depth')\n",
    "plt.ylabel('Accuracy')\n",
    "plt.title('Effect of Tree Depth on Overfitting/Generalization')\n",
    "plt.legend()\n",
    "plt.show()\n"
   ]
  },
  {
   "cell_type": "code",
   "execution_count": null,
   "id": "1677d8d6-850f-447a-8b99-b8f9030919b1",
   "metadata": {},
   "outputs": [],
   "source": []
  }
 ],
 "metadata": {
  "kernelspec": {
   "display_name": "Python [conda env:base] *",
   "language": "python",
   "name": "conda-base-py"
  },
  "language_info": {
   "codemirror_mode": {
    "name": "ipython",
    "version": 3
   },
   "file_extension": ".py",
   "mimetype": "text/x-python",
   "name": "python",
   "nbconvert_exporter": "python",
   "pygments_lexer": "ipython3",
   "version": "3.12.7"
  }
 },
 "nbformat": 4,
 "nbformat_minor": 5
}
